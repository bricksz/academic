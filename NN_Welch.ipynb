{
 "cells": [
  {
   "cell_type": "markdown",
   "metadata": {},
   "source": [
    "### Neurons"
   ]
  },
  {
   "cell_type": "code",
   "execution_count": null,
   "metadata": {},
   "outputs": [],
   "source": [
    "import numpy as np\n",
    "import matplotlib.pyplot as plt\n",
    "\n",
    "x_ = np.array([[3, 5],\n",
    "               [5, 1],\n",
    "               [10, 2]])\n",
    "y_ = np.array([75, 82, 93])"
   ]
  },
  {
   "cell_type": "code",
   "execution_count": 62,
   "metadata": {},
   "outputs": [],
   "source": [
    "x_norm = x_/np.amax(x_, axis=0)\n",
    "y_norm = x_/100"
   ]
  },
  {
   "cell_type": "markdown",
   "metadata": {},
   "source": [
    "$$\\begin{bmatrix} 3 & 5 \\\\ 5 & 1 \\\\ 10 & 2 \\end{bmatrix}\\begin{bmatrix} w_{11}^{(1)}  & w_{12}^{(1)} & w_{13}^{(1)} \n",
    "\\\\ w_{21}^{(1)} & w_{22}^{(1)} & w_{23}^{(1)} \\end{bmatrix} = \n",
    "\\begin{bmatrix}\n",
    "   3w_{11}^{(1)} + 5w_{21}^{(1)} & 3w_{12}^{(1)} + 5w_{22}^{(1)} & 3w_{13}^{(1)} + 5w_{23}^{(1)} \n",
    "\\\\ 5w_{11}^{(1)} + w_{21}^{(1)} & 5w_{12}^{(1)} + w_{22}^{(1)} & 5w_{13}^{(1)} + w_{23}^{(1)} \n",
    "\\\\ 10w_{11}^{(1)} + 2w_{21}^{(1)} & 10w_{12}^{(1)} + 2w_{22}^{(1)} & 10w_{13}^{(1)} + 2w_{23}^{(1)} \n",
    "\\end{bmatrix} $$\n",
    "<br>\n",
    "$$\n",
    "\\begin{equation*} \n",
    "Z^{(2)} = XW^{(1)}\n",
    "\\end{equation*} \\tag{1}$$\n",
    "Where &emsp; $ Z^{(2)} $ is a 3x3 matrix\n",
    "<br> &emsp;&emsp;&emsp;&emsp; $ W^{(1)} $ is the first hidden layer weight\n",
    "\n"
   ]
  },
  {
   "cell_type": "code",
   "execution_count": 63,
   "metadata": {},
   "outputs": [],
   "source": [
    "def sigmoid(z):\n",
    "    # Sigmoid activation function\n",
    "    return 1/(1+np.exp(-z))"
   ]
  },
  {
   "cell_type": "code",
   "execution_count": 64,
   "metadata": {},
   "outputs": [
    {
     "data": {
      "image/png": "[encoded data removed]",
      "text/plain": [
       "<Figure size 432x288 with 1 Axes>"
      ]
     },
     "metadata": {},
     "output_type": "display_data"
    }
   ],
   "source": [
    "input_ = np.arange(-8,8,0.01)\n",
    "plt.plot(input_, sigmoid(input_), linewidth=2)\n",
    "plt.grid(1)"
   ]
  },
  {
   "cell_type": "markdown",
   "metadata": {},
   "source": [
    "##### <center> Sigmoid function\n",
    "$$\\begin{equation*} \\tag{2} f = \\frac{1}{1+e^{-z}} \\end{equation*} $$\n",
    "<br>\n",
    "$$ \\begin{equation*} \\tag{2}   a^{(2)}= f(z^{(2)}) \\end{equation*} $$\n",
    "Where &emsp; $ a^{(2)} $ is a 3x3 matrix\n"
   ]
  },
  {
   "cell_type": "markdown",
   "metadata": {},
   "source": [
    "##### <center> Second hidden layer\n",
    "$$\\begin{equation*} \\tag{3} z^{(3)} = a^{(2)}W^{(2)}  \\end{equation*} $$\n",
    "Where &emsp; $ W^{(2)} $ is a 3x1 matrix, second hidden layer weight\n",
    "<br>&emsp;&emsp;&emsp;&emsp; $z^{(3)}$ is a 3x1 matrix\n"
   ]
  },
  {
   "cell_type": "markdown",
   "metadata": {},
   "source": [
    "##### <center> Output prediction\n",
    "$$\\begin{equation*} \\tag{4} \\hat{y} = f(z^{(3)}) \\end{equation*} $$"
   ]
  },
  {
   "cell_type": "code",
   "execution_count": 76,
   "metadata": {},
   "outputs": [],
   "source": [
    "class Neural_Network(object):\n",
    "    def __init__(self):\n",
    "        # Hyperparamters\n",
    "        self.inputLayerSize = 2\n",
    "        self.outputLayerSize = 1\n",
    "        self.hiddenLayerSize = 3\n",
    "        \n",
    "        # Weights (Paramters)\n",
    "        self.W1 = np.random.randn(self.inputLayerSize, \n",
    "                                  self.hiddenLayerSize)\n",
    "        self.W2 = np.random.randn(self.hiddenLayerSize, \n",
    "                                  self.outputLayerSize)\n",
    "        \n",
    "    def forward(self, X):\n",
    "        # Input propagation through network\n",
    "        self.z2 = np.dot(X, self.W1)\n",
    "        self.a2 = self.sigmoid(self.z2)\n",
    "        self.z3 = np.dot(self.a2, self.W2)\n",
    "        y_ = self.sigmoid(self.z3)\n",
    "        return y_\n",
    "    \n",
    "    def sigmoid(self, z):\n",
    "    # Sigmoid activation function\n",
    "        return 1/(1+np.exp(-z))\n",
    "    \n",
    "    def weights(self):\n",
    "        print(self.W1)\n",
    "        print(self.W2)"
   ]
  },
  {
   "cell_type": "markdown",
   "metadata": {},
   "source": [
    "##### Minimize cost function\n",
    "$$ \\begin{equation*} \\tag{5}  J = \\sum_{} \\frac{1}{2}(y - \\hat{y})^{2}  \\end{equation*}$$"
   ]
  },
  {
   "cell_type": "markdown",
   "metadata": {},
   "source": [
    "##### Combining all equations together\n",
    "$$ \\begin{equation*} \\tag{5}  J = \\sum_{} \\frac{1}{2}(y - f(f(XW^{(1)})W^{(2)})^{2}  \\end{equation*}$$"
   ]
  },
  {
   "cell_type": "markdown",
   "metadata": {},
   "source": [
    "We have 9 weights, find the best combination to minimize the cost\n",
    "<br> $$ w_{11}^{(1)} w_{12}^{(1)} w_{13}^{(1)} $$ \n",
    "<br> $$ w_{21}^{(1)} w_{22}^{(1)} w_{23}^{(1)} $$\n",
    "<br> $$ w_{11}^{(2)} w_{12}^{(2)} w_{13}^{(2)} $$ "
   ]
  },
  {
   "cell_type": "markdown",
   "metadata": {},
   "source": [
    "##### Optimize!\n",
    "\n",
    "Where we need to find the solutions to $  \\frac{\\partial J}{\\partial W^{(1)}} , \\frac{\\partial J}{\\partial W^{(2)}}$\n",
    "$$\\frac{\\partial J}{\\partial W^{(1)}} = \\begin{bmatrix}\n",
    "   \\frac{\\partial J}{\\partial W_{11}^{(1)}} & \\frac{\\partial J}{\\partial W_{12}^{(1)}} & \\frac{\\partial J}{\\partial W_{13}^{(1)}} \n",
    "\\\\ \\frac{\\partial J}{\\partial W_{21}^{(1)}} & \\frac{\\partial J}{\\partial W_{22}^{(1)}} & \\frac{\\partial J}{\\partial W_{23}^{(1)}}\n",
    "\\end{bmatrix} $$\n",
    "<br>\n",
    "$$\\frac{\\partial J}{\\partial W^{(2)}} = \\begin{bmatrix}\n",
    "   \\frac{\\partial J}{\\partial W_{11}^{(2)}}  \n",
    "\\\\ \\frac{\\partial J}{\\partial W_{21}^{(2)}} \n",
    "\\\\ \\frac{\\partial J}{\\partial W_{31}^{(2)}} \n",
    "\\end{bmatrix} $$"
   ]
  },
  {
   "cell_type": "markdown",
   "metadata": {},
   "source": [
    "##### Starting with $ \\frac{\\partial J}{\\partial W^{(2)}} $\n",
    "\n",
    "$$\\begin{equation*} \\frac{\\partial J}{\\partial W^{(2)}} =  \\frac{\\partial \\sum_{} \\frac{1}{2}(y - \\hat{y})^{2}}{\\partial W^{(2)}} \\end{equation*}$$\n",
    "<br> Where using \"Sum Rule In Differentiation\" <br>\n",
    "$ \\frac{d}{dx}(u+v) = \\frac{du}{dx} + \\frac{dv}{dx} $\n",
    "<br><br>\n",
    "The equation becomes\n",
    "$$\\begin{equation*} \\frac{\\partial J}{\\partial W^{(2)}} =   \\sum_{} (y - \\hat{y})\\frac{\\partial (y - \\hat{y})}{\\partial W^{(2)}} \\end{equation*}$$\n",
    "$$\\begin{equation*} \\frac{\\partial J}{\\partial W^{(2)}} =   \\sum_{}(-1) (y - \\hat{y})\\frac{\\partial \\hat{y}}{\\partial z^{(3)}}\\frac{\\partial  z^{(3)}}{\\partial W^{(2)}} \\end{equation*}$$\n",
    "<br> Sidestepping, where we have   $$\\hat{y} = f(z^{(3)})$$\n",
    "<br> $$ f(z) = \\frac{1}{1+e^{-z}} $$\n",
    "<br> $$ f'(z) = \\frac{e^{(-z)}}{(1+e^{-z})^2} $$\n",
    "<br> Rewritten as $$ f'(z) = f(z)(1-f(z)) $$"
   ]
  },
  {
   "cell_type": "code",
   "execution_count": 87,
   "metadata": {},
   "outputs": [],
   "source": [
    "def sigmoid_(z):\n",
    "    # Derivative of Sigmoid function\n",
    "    return sigmoid(z)*(1-sigmoid(z))"
   ]
  },
  {
   "cell_type": "code",
   "execution_count": 85,
   "metadata": {},
   "outputs": [
    {
     "name": "stdout",
     "output_type": "stream",
     "text": [
      "[[ 0.33351467 -0.64715228 -0.23377524]\n",
      " [ 1.2374778   2.29407214  0.10689482]]\n",
      "[[-1.2761817 ]\n",
      " [ 1.31437885]\n",
      " [ 0.31187822]]\n"
     ]
    }
   ],
   "source": [
    "NN = Neural_Network()\n",
    "yHat = NN.forward(x_)\n",
    "NN.weights()"
   ]
  },
  {
   "cell_type": "code",
   "execution_count": 86,
   "metadata": {},
   "outputs": [
    {
     "data": {
      "text/plain": [
       "array([[0.54538103],\n",
       "       [0.31841837],\n",
       "       [0.25624775]])"
      ]
     },
     "execution_count": 86,
     "metadata": {},
     "output_type": "execute_result"
    }
   ],
   "source": [
    "yHat"
   ]
  },
  {
   "cell_type": "code",
   "execution_count": null,
   "metadata": {},
   "outputs": [],
   "source": []
  }
 ],
 "metadata": {
  "kernelspec": {
   "display_name": "Python 3",
   "language": "python",
   "name": "python3"
  },
  "language_info": {
   "codemirror_mode": {
    "name": "ipython",
    "version": 3
   },
   "file_extension": ".py",
   "mimetype": "text/x-python",
   "name": "python",
   "nbconvert_exporter": "python",
   "pygments_lexer": "ipython3",
   "version": "3.6.5"
  }
 },
 "nbformat": 4,
 "nbformat_minor": 2
}
