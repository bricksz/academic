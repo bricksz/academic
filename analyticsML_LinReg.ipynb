{
 "cells": [
  {
   "cell_type": "code",
   "execution_count": 26,
   "metadata": {},
   "outputs": [],
   "source": [
    "import numpy as np\n",
    "import pandas as pd\n",
    "import matplotlib.pyplot as plt\n",
    "from mpl_toolkits.mplot3d import Axes3D\n",
    "%matplotlib notebook"
   ]
  },
  {
   "cell_type": "code",
   "execution_count": 27,
   "metadata": {},
   "outputs": [
    {
     "name": "stdout",
     "output_type": "stream",
     "text": [
      "TensorFlow version: 2.0.0\n",
      "Eager execution is: True\n"
     ]
    }
   ],
   "source": [
    "import tensorflow as tf\n",
    "print(\"TensorFlow version: {}\".format(tf.__version__))\n",
    "print(\"Eager execution is: {}\".format(tf.executing_eagerly()))"
   ]
  },
  {
   "cell_type": "markdown",
   "metadata": {},
   "source": [
    "# Multivariate Linear Regression\n",
    "Two methods: Numpy and Tensorflow"
   ]
  },
  {
   "cell_type": "markdown",
   "metadata": {},
   "source": [
    "#### Linear Algebra review\n",
    "Let <br>\n",
    "$A$ : 2x2 Matrix <br>\n",
    "$B$ : 2x1 vector\n",
    "$$ A\\vec{B} = \n",
    "\\begin{bmatrix} a_{11} & a_{12} \\\\ a_{21} & a_{22} \\end{bmatrix}\n",
    "\\begin{bmatrix} b_{1} \\\\ b_{2} \\end{bmatrix} = \n",
    "\\begin{bmatrix} a_{11}b_{1} + a_{12}b_{2} \\\\ a_{21}b_{1} + a_{22}b_{2}  \\end{bmatrix}\n",
    "$$\n",
    "Example: <br>\n",
    "$$ \n",
    "\\begin{bmatrix} 1 & 2 \\\\ 3 & 4 \\end{bmatrix}\n",
    "\\begin{bmatrix} 5 \\\\ 6 \\end{bmatrix} = \n",
    "\\begin{bmatrix} 17 \\\\ 39 \\end{bmatrix}\n",
    "$$"
   ]
  },
  {
   "cell_type": "markdown",
   "metadata": {},
   "source": [
    "*Note, we cannot apply matrix mutiplication if the dimensions does not fit <br>\n",
    "i.e.\n",
    "$$ C\\vec{D} = \n",
    "\\begin{bmatrix} c_{11} & c_{12} & c_{13} \\\\ c_{21} & c_{22} & c_{23} \\end{bmatrix}\n",
    "\\begin{bmatrix} d_{1} \\\\ d_{2} \\end{bmatrix} = \n",
    "\\textbf{NO  BUENO}\n",
    "$$\n",
    "<br>\n",
    "$C$ : 2x3 Matrix <br>\n",
    "$D$ : 2x1 Vector <br>\n",
    "$$\\text{(2x3 Matrix) x (2x1 Vector)} \\neq \\text{(3x1 Matrix)}$$ <br>"
   ]
  },
  {
   "cell_type": "markdown",
   "metadata": {},
   "source": [
    "To correct this, we <i>Transpose</i> the $C$ Matrix\n",
    "$$ C^{T}D = \n",
    "\\begin{bmatrix} c_{11} & c_{12}  \\\\ c_{21} & c_{22} \\\\ c_{31} & c_{32} \\end{bmatrix}\n",
    "\\begin{bmatrix} d_{1} \\\\ d_{2} \\end{bmatrix} = \n",
    "\\begin{bmatrix} c_{11}d_{1} + c_{12}d_{2} \\\\ c_{21}d_{1} + c_{22}d_{2} \\\\ c_{31}d_{1} + c_{32}d_{2} \\end{bmatrix}\n",
    "$$<br>\n",
    "*Note, values of $c_{ij}$ represent the location of the matrix, not the actual value."
   ]
  },
  {
   "cell_type": "markdown",
   "metadata": {},
   "source": [
    "### LinA Notations\n",
    "$i^{th}$ : index samples of the training set (rows)<br>\n",
    "$j^{th}$ : feature or dimension  (cols) <br>\n",
    "where $j=(0,\\cdots,n$), $i=(1,\\cdots,m)$<br>\n",
    "Can be represented by $x_{ij}$ or $x_{j}^{(i)}$\n",
    "\n",
    "Assume we have a dataset with $n$-Features, <br> \n",
    "where: <br>\n",
    "$$\n",
    "x^{(i)}=\n",
    "\\begin{bmatrix} x_{0}^{(i)} \\\\ x_{1}^{(i)} \\\\ \\vdots \\\\ x_{n}^{(i)} \\end{bmatrix}\n",
    "\\in \\mathbb{R}^{n+1}\n",
    "$$\n",
    "<br>\n",
    "The $\\mathbb{R}^{n+1}$ notation means, we have $n$-Features (Dimensions) offset, starting at the $0^{th}$ index instead of the $1^{st}$ index.<br>\n",
    "Because this is designed that the first column of the dataset are $1$'s. Not actually a feature in the dataset. <br>\n",
    "*Note: for best practice, assume $x_{0}^{(i)}=1$"
   ]
  },
  {
   "cell_type": "markdown",
   "metadata": {},
   "source": [
    "And matrix design for $m$-samples, $n$-dimensions <br>\n",
    "$$ \n",
    "X=\n",
    "\\begin{bmatrix} (x^{(1)})^{T} \\\\ (x^{(2)})^{T} \\\\ \\vdots \\\\ (x^{(m)})^{T} \\end{bmatrix}\n",
    "$$\n",
    "<br>\n",
    "where \n",
    "$$(x^{(1)})^{T}=\n",
    "\\begin{bmatrix} x_{0}^{(1)} & x_{1}^{(1)} & \\cdots & x_{n}^{(1)} \\end{bmatrix}\n",
    "$$\n",
    "<br>\n",
    "Which results in\n",
    "$$ \n",
    "X=\n",
    "\\begin{bmatrix} x_{0}^{(1)} & \\cdots & x_{n}^{(1)} \\\\\n",
    "\\vdots & \\ddots & \\vdots \\\\\n",
    "x_{0}^{(m)} & \\cdots & x_{n}^{(m)} \\end{bmatrix}\n",
    "$$"
   ]
  },
  {
   "cell_type": "markdown",
   "metadata": {},
   "source": [
    "And the other notations <br>\n",
    "Weights vector, Target label vector, LinReg function respectively:\n",
    "$$\n",
    "\\theta{}=\n",
    "\\begin{bmatrix} \\theta{}_{0} \\\\ \\theta{}_{1} \\\\ \\vdots \\\\ \\theta{}_{n} \\end{bmatrix}\n",
    "\\in \\mathbb{R}^{n+1} \n",
    "\\:\\:,\\:\\:\n",
    "y=\n",
    "\\begin{bmatrix} y^{(1)} \\\\ y^{(2)} \\\\ \\vdots \\\\ y^{(m)} \\end{bmatrix}\n",
    "$$ <br><br>\n",
    "$$\n",
    "h_{\\theta{}}(x) = \\theta{}^{T}x = \\theta{}_{0}x_{0} + \\theta{}_{1}x_{1} + \\cdots +\\theta{}_{n}x_{n} \n",
    "$$ <br><br>\n",
    "$$ h_{\\theta{}}(x^{(i)}) = \\theta{}_{0}x_{0}^{(i)} + \\theta{}_{1}x_{1}^{(i)} + \\cdots +\\theta{}_{n}x_{n}^{(i)}  $$ <br><br>\n",
    "Where the dot product of $\\theta{} \\cdot x$ is simply:\n",
    "$$\n",
    "\\theta{}^{T}x=\n",
    "\\begin{bmatrix} \\theta{}_{0} & \\theta{}_{1} & \\cdots & \\theta{}_{n} \\end{bmatrix}\n",
    "\\begin{bmatrix} x_{0} \\\\ x_{1} \\\\ \\vdots \\\\ x_{n} \\end{bmatrix}\n",
    "$$"
   ]
  },
  {
   "cell_type": "markdown",
   "metadata": {},
   "source": [
    "$$ error = (h_{\\theta{}}(x) - y) $$ <br>\n",
    "$$ errsq = error^2 $$ <br>\n",
    "Cost function with params $\\theta{}=(\\theta{}_{0},\\cdots,\\theta{}_n)$ <br>\n",
    "$$ \\: J(\\theta{}) = \\frac{1}{2}\\sum_{1}^{m} (h_{\\theta{}}(x^{(i)}) - y^{(i)})^{2} $$ <br>"
   ]
  },
  {
   "cell_type": "markdown",
   "metadata": {},
   "source": [
    "### Multivariate (Matrix form)\n",
    "$ \\theta $  contains the weights, and $ x $ are the features\n",
    "$$ \\vec{\\theta} = \n",
    "\\begin{bmatrix} \\theta{}_{0} \\\\ \\theta{}_{1} \\\\ \\theta{}_{2} \\end{bmatrix} \n",
    "\\;\\;\\; , \\;\\;\\;\n",
    "X = \n",
    "\\begin{bmatrix} 1 & x_{11} & x_{12} \\\\ \\vdots & \\vdots & \\vdots \\\\ 1 & x_{m1} & x_{m2} \\end{bmatrix}\n",
    "$$\n",
    "<br><br>\n",
    "And remeber that $ h_{\\theta}(x^{(i)}) =  \\theta{}_{0} + \\theta{}_{1}x_{1}^{(i)} +\\theta{}_{2}x_{2}^{(i)} $ <br>\n",
    "Where $x_{0} = 1$ <br>\n",
    "Which the $h_{\\theta}(x^{(i)})$ can be written as the resulting $m$ x $1$ Vector\n"
   ]
  },
  {
   "cell_type": "markdown",
   "metadata": {},
   "source": [
    "$$\n",
    "\\begin{bmatrix} \n",
    "x_{10}& x_{11} & x_{12} \\\\ \\vdots & \\vdots & \\vdots \\\\ x_{m0} & x_{m1} & x_{m2}  \\end{bmatrix}\n",
    "\\begin{bmatrix} \\theta{}_{0} \\\\ \\theta{}_{1} \\\\ \\theta{}_{2} \\end{bmatrix} \n",
    "= \n",
    "\\begin{bmatrix} h_{\\theta}(x^{(1)}) \\\\ \\vdots \\\\ h_{\\theta}(x^{(m)})  \\end{bmatrix} \n",
    "$$ \n",
    "<br>\n",
    "you can interpret the $h$ function as the predicted $y$ value\n",
    "$$\\hat{y}^{(1)} = h_{\\theta}(x^{(1)})$$ <br>\n",
    "where it will return the error value when calculating $ :\\ (\\hat{y}-y)^{(i)}$"
   ]
  },
  {
   "cell_type": "markdown",
   "metadata": {},
   "source": [
    "And don't forget the error squared term <br>\n",
    "$$ errsq = (h_{\\theta{}}(x^{(i)}) - y^{(i)})^{2} $$ <br>\n",
    "Recall that the cost function $J(\\cdot)$, and the function $h(\\cdot)$\n",
    "$$ \\: J(\\theta{}) = \\sum_{1}^{m} (h_{\\theta{}}(x^{(i)}) - y^{(i)})^{2}  $$ <br>\n",
    "$$ h_{\\theta{}}(x) = \\theta{}_{0}x_{0} + \\theta{}_{1}x_{1} + \\cdots +\\theta{}_{n}x_{n}  $$ <br>"
   ]
  },
  {
   "cell_type": "markdown",
   "metadata": {},
   "source": [
    "Want to apply gradient descent which starts with some random weight $\\theta{}_{j}$ <br>\n",
    "Initialize $\\theta{}$ with a arbitary value from $-1$ to $1$ <br>\n",
    "Then we perform updates for each iteration by finding the partial dertivative of $\\theta{}_{j} \n",
    "\\;\\; \\forall \\;\\; j=(0 \\rightarrow n)  $; <br>\n"
   ]
  },
  {
   "cell_type": "markdown",
   "metadata": {},
   "source": [
    "$$\n",
    "\\frac{\\partial{J(\\theta)}}{\\partial{\\theta{}_{j}}} = \n",
    "2 \\sum_{i=1}^{m} (h_{\\theta{}}(x^{(i)}) - y^{(i)}) \\; x_{j}^{(i)}\n",
    "$$ <br>\n",
    "If we are multiplying this by the learning rate $\\alpha{}$, then we don't really care about the coefficients because $\\alpha$ is a small value <br><br>\n",
    "So $\\frac{1}{2}$ is included to make life easier and added $\\frac{1}{m}$ to get the average aka mean, <br><br>\n",
    "$$\n",
    "\\alpha\\frac{1}{2m}\\frac{\\partial{J(\\theta)}}{\\partial{\\theta{}_{j}}}\n",
    "=\\alpha\\sum_{i=1}^{m} (h_{\\theta{}}(x^{(i)}) - y^{(i)}) \\; x_{j}^{(i)}\n",
    "$$"
   ]
  },
  {
   "cell_type": "markdown",
   "metadata": {},
   "source": [
    "For Conceptual context, say we have 2 features, looking at the $j^{th}$ index below for $j=(0,1,2)$ <br>\n",
    "Then for each $\\theta{}_{j}$ (These are feature weights),\n",
    "$$\n",
    "\\theta{}_{0} :=\n",
    "\\theta{}_{0} - \\alpha{}\\sum_{i=1}^{m} (h_{\\theta{}}(x^{(i)}) - y^{(i)}) \\; x^{(i)}_{0}\n",
    "$$\n",
    "$$\n",
    "\\theta{}_{1} :=\n",
    "\\theta{}_{1} - \\alpha{}\\sum_{i=1}^{m} (h_{\\theta{}}(x^{(i)}) - y^{(i)}) \\; x^{(i)}_{1}\n",
    "$$\n",
    "$$\n",
    "\\theta{}_{2} :=\n",
    "\\theta{}_{2} - \\alpha{}\\sum_{i=1}^{m} (h_{\\theta{}}(x^{(i)}) - y^{(i)}) \\; x^{(i)}_{2}\n",
    "$$"
   ]
  },
  {
   "cell_type": "markdown",
   "metadata": {},
   "source": [
    "The weight $\\theta{}_{j}$ updates for each iteration where we use the previous $\\theta{}_{j}$ value and subtract from $\\alpha\\frac{\\partial{J(\\theta)}}{\\partial{\\theta{}_{j}}}$"
   ]
  },
  {
   "cell_type": "markdown",
   "metadata": {},
   "source": [
    "Then we want to find the overall mean per update, called <b>batch gradient descent</b> which is where we include the summation of all error term to get the total score per update. <br>\n",
    "The result, for each update, will shift towards the $\\leftarrow$ direction if positive score or $\\rightarrow$ if negative score until it converges very close to 0."
   ]
  },
  {
   "cell_type": "markdown",
   "metadata": {},
   "source": [
    "# NO MORE PLEASE (ノಠ益ಠ)ノ彡┻━┻\n",
    "# seE beLOw （。々°）"
   ]
  },
  {
   "cell_type": "markdown",
   "metadata": {},
   "source": [
    "# Illustration\n",
    "##### Dataset with two features\n",
    "1000 samples. Linearally biased"
   ]
  },
  {
   "cell_type": "code",
   "execution_count": 3,
   "metadata": {},
   "outputs": [
    {
     "name": "stdout",
     "output_type": "stream",
     "text": [
      "79.80513106640267\n"
     ]
    }
   ],
   "source": [
    "np.random.seed(42)\n",
    "\n",
    "x_size = 1000\n",
    "delta = np.random.uniform(-10, 10, x_size)\n",
    "delta1 = np.random.uniform(-2, 2, x_size)\n",
    "delta2 = np.random.uniform(-4, 4, x_size)\n",
    "x1 = np.linspace(2, 6, 1000) + delta1\n",
    "x2 = np.linspace(4, 8, 1000) + delta2\n",
    "b_0 = 80 + delta\n",
    "\n",
    "y = 0.2*(x1) + 0.9*(x2) + b_0\n",
    "print(b_0.mean())"
   ]
  },
  {
   "cell_type": "code",
   "execution_count": 4,
   "metadata": {},
   "outputs": [],
   "source": [
    "X = np.column_stack((x1, x2))"
   ]
  },
  {
   "cell_type": "code",
   "execution_count": 28,
   "metadata": {},
   "outputs": [
    {
     "data": {
      "application/javascript": [
       "/* Put everything inside the global mpl namespace */\n",
       "window.mpl = {};\n",
       "\n",
       "\n",
       "mpl.get_websocket_type = function() {\n",
       "    if (typeof(WebSocket) !== 'undefined') {\n",
       "        return WebSocket;\n",
       "    } else if (typeof(MozWebSocket) !== 'undefined') {\n",
       "        return MozWebSocket;\n",
       "    } else {\n",
       "        alert('Your browser does not have WebSocket support.' +\n",
       "              'Please try Chrome, Safari or Firefox ≥ 6. ' +\n",
       "              'Firefox 4 and 5 are also supported but you ' +\n",
       "              'have to enable WebSockets in about:config.');\n",
       "    };\n",
       "}\n",
       "\n",
       "mpl.figure = function(figure_id, websocket, ondownload, parent_element) {\n",
       "    this.id = figure_id;\n",
       "\n",
       "    this.ws = websocket;\n",
       "\n",
       "    this.supports_binary = (this.ws.binaryType != undefined);\n",
       "\n",
       "    if (!this.supports_binary) {\n",
       "        var warnings = document.getElementById(\"mpl-warnings\");\n",
       "        if (warnings) {\n",
       "            warnings.style.display = 'block';\n",
       "            warnings.textContent = (\n",
       "                \"This browser does not support binary websocket messages. \" +\n",
       "                    \"Performance may be slow.\");\n",
       "        }\n",
       "    }\n",
       "\n",
       "    this.imageObj = new Image();\n",
       "\n",
       "    this.context = undefined;\n",
       "    this.message = undefined;\n",
       "    this.canvas = undefined;\n",
       "    this.rubberband_canvas = undefined;\n",
       "    this.rubberband_context = undefined;\n",
       "    this.format_dropdown = undefined;\n",
       "\n",
       "    this.image_mode = 'full';\n",
       "\n",
       "    this.root = $('<div/>');\n",
       "    this._root_extra_style(this.root)\n",
       "    this.root.attr('style', 'display: inline-block');\n",
       "\n",
       "    $(parent_element).append(this.root);\n",
       "\n",
       "    this._init_header(this);\n",
       "    this._init_canvas(this);\n",
       "    this._init_toolbar(this);\n",
       "\n",
       "    var fig = this;\n",
       "\n",
       "    this.waiting = false;\n",
       "\n",
       "    this.ws.onopen =  function () {\n",
       "            fig.send_message(\"supports_binary\", {value: fig.supports_binary});\n",
       "            fig.send_message(\"send_image_mode\", {});\n",
       "            if (mpl.ratio != 1) {\n",
       "                fig.send_message(\"set_dpi_ratio\", {'dpi_ratio': mpl.ratio});\n",
       "            }\n",
       "            fig.send_message(\"refresh\", {});\n",
       "        }\n",
       "\n",
       "    this.imageObj.onload = function() {\n",
       "            if (fig.image_mode == 'full') {\n",
       "                // Full images could contain transparency (where diff images\n",
       "                // almost always do), so we need to clear the canvas so that\n",
       "                // there is no ghosting.\n",
       "                fig.context.clearRect(0, 0, fig.canvas.width, fig.canvas.height);\n",
       "            }\n",
       "            fig.context.drawImage(fig.imageObj, 0, 0);\n",
       "        };\n",
       "\n",
       "    this.imageObj.onunload = function() {\n",
       "        fig.ws.close();\n",
       "    }\n",
       "\n",
       "    this.ws.onmessage = this._make_on_message_function(this);\n",
       "\n",
       "    this.ondownload = ondownload;\n",
       "}\n",
       "\n",
       "mpl.figure.prototype._init_header = function() {\n",
       "    var titlebar = $(\n",
       "        '<div class=\"ui-dialog-titlebar ui-widget-header ui-corner-all ' +\n",
       "        'ui-helper-clearfix\"/>');\n",
       "    var titletext = $(\n",
       "        '<div class=\"ui-dialog-title\" style=\"width: 100%; ' +\n",
       "        'text-align: center; padding: 3px;\"/>');\n",
       "    titlebar.append(titletext)\n",
       "    this.root.append(titlebar);\n",
       "    this.header = titletext[0];\n",
       "}\n",
       "\n",
       "\n",
       "\n",
       "mpl.figure.prototype._canvas_extra_style = function(canvas_div) {\n",
       "\n",
       "}\n",
       "\n",
       "\n",
       "mpl.figure.prototype._root_extra_style = function(canvas_div) {\n",
       "\n",
       "}\n",
       "\n",
       "mpl.figure.prototype._init_canvas = function() {\n",
       "    var fig = this;\n",
       "\n",
       "    var canvas_div = $('<div/>');\n",
       "\n",
       "    canvas_div.attr('style', 'position: relative; clear: both; outline: 0');\n",
       "\n",
       "    function canvas_keyboard_event(event) {\n",
       "        return fig.key_event(event, event['data']);\n",
       "    }\n",
       "\n",
       "    canvas_div.keydown('key_press', canvas_keyboard_event);\n",
       "    canvas_div.keyup('key_release', canvas_keyboard_event);\n",
       "    this.canvas_div = canvas_div\n",
       "    this._canvas_extra_style(canvas_div)\n",
       "    this.root.append(canvas_div);\n",
       "\n",
       "    var canvas = $('<canvas/>');\n",
       "    canvas.addClass('mpl-canvas');\n",
       "    canvas.attr('style', \"left: 0; top: 0; z-index: 0; outline: 0\")\n",
       "\n",
       "    this.canvas = canvas[0];\n",
       "    this.context = canvas[0].getContext(\"2d\");\n",
       "\n",
       "    var backingStore = this.context.backingStorePixelRatio ||\n",
       "\tthis.context.webkitBackingStorePixelRatio ||\n",
       "\tthis.context.mozBackingStorePixelRatio ||\n",
       "\tthis.context.msBackingStorePixelRatio ||\n",
       "\tthis.context.oBackingStorePixelRatio ||\n",
       "\tthis.context.backingStorePixelRatio || 1;\n",
       "\n",
       "    mpl.ratio = (window.devicePixelRatio || 1) / backingStore;\n",
       "\n",
       "    var rubberband = $('<canvas/>');\n",
       "    rubberband.attr('style', \"position: absolute; left: 0; top: 0; z-index: 1;\")\n",
       "\n",
       "    var pass_mouse_events = true;\n",
       "\n",
       "    canvas_div.resizable({\n",
       "        start: function(event, ui) {\n",
       "            pass_mouse_events = false;\n",
       "        },\n",
       "        resize: function(event, ui) {\n",
       "            fig.request_resize(ui.size.width, ui.size.height);\n",
       "        },\n",
       "        stop: function(event, ui) {\n",
       "            pass_mouse_events = true;\n",
       "            fig.request_resize(ui.size.width, ui.size.height);\n",
       "        },\n",
       "    });\n",
       "\n",
       "    function mouse_event_fn(event) {\n",
       "        if (pass_mouse_events)\n",
       "            return fig.mouse_event(event, event['data']);\n",
       "    }\n",
       "\n",
       "    rubberband.mousedown('button_press', mouse_event_fn);\n",
       "    rubberband.mouseup('button_release', mouse_event_fn);\n",
       "    // Throttle sequential mouse events to 1 every 20ms.\n",
       "    rubberband.mousemove('motion_notify', mouse_event_fn);\n",
       "\n",
       "    rubberband.mouseenter('figure_enter', mouse_event_fn);\n",
       "    rubberband.mouseleave('figure_leave', mouse_event_fn);\n",
       "\n",
       "    canvas_div.on(\"wheel\", function (event) {\n",
       "        event = event.originalEvent;\n",
       "        event['data'] = 'scroll'\n",
       "        if (event.deltaY < 0) {\n",
       "            event.step = 1;\n",
       "        } else {\n",
       "            event.step = -1;\n",
       "        }\n",
       "        mouse_event_fn(event);\n",
       "    });\n",
       "\n",
       "    canvas_div.append(canvas);\n",
       "    canvas_div.append(rubberband);\n",
       "\n",
       "    this.rubberband = rubberband;\n",
       "    this.rubberband_canvas = rubberband[0];\n",
       "    this.rubberband_context = rubberband[0].getContext(\"2d\");\n",
       "    this.rubberband_context.strokeStyle = \"#000000\";\n",
       "\n",
       "    this._resize_canvas = function(width, height) {\n",
       "        // Keep the size of the canvas, canvas container, and rubber band\n",
       "        // canvas in synch.\n",
       "        canvas_div.css('width', width)\n",
       "        canvas_div.css('height', height)\n",
       "\n",
       "        canvas.attr('width', width * mpl.ratio);\n",
       "        canvas.attr('height', height * mpl.ratio);\n",
       "        canvas.attr('style', 'width: ' + width + 'px; height: ' + height + 'px;');\n",
       "\n",
       "        rubberband.attr('width', width);\n",
       "        rubberband.attr('height', height);\n",
       "    }\n",
       "\n",
       "    // Set the figure to an initial 600x600px, this will subsequently be updated\n",
       "    // upon first draw.\n",
       "    this._resize_canvas(600, 600);\n",
       "\n",
       "    // Disable right mouse context menu.\n",
       "    $(this.rubberband_canvas).bind(\"contextmenu\",function(e){\n",
       "        return false;\n",
       "    });\n",
       "\n",
       "    function set_focus () {\n",
       "        canvas.focus();\n",
       "        canvas_div.focus();\n",
       "    }\n",
       "\n",
       "    window.setTimeout(set_focus, 100);\n",
       "}\n",
       "\n",
       "mpl.figure.prototype._init_toolbar = function() {\n",
       "    var fig = this;\n",
       "\n",
       "    var nav_element = $('<div/>')\n",
       "    nav_element.attr('style', 'width: 100%');\n",
       "    this.root.append(nav_element);\n",
       "\n",
       "    // Define a callback function for later on.\n",
       "    function toolbar_event(event) {\n",
       "        return fig.toolbar_button_onclick(event['data']);\n",
       "    }\n",
       "    function toolbar_mouse_event(event) {\n",
       "        return fig.toolbar_button_onmouseover(event['data']);\n",
       "    }\n",
       "\n",
       "    for(var toolbar_ind in mpl.toolbar_items) {\n",
       "        var name = mpl.toolbar_items[toolbar_ind][0];\n",
       "        var tooltip = mpl.toolbar_items[toolbar_ind][1];\n",
       "        var image = mpl.toolbar_items[toolbar_ind][2];\n",
       "        var method_name = mpl.toolbar_items[toolbar_ind][3];\n",
       "\n",
       "        if (!name) {\n",
       "            // put a spacer in here.\n",
       "            continue;\n",
       "        }\n",
       "        var button = $('<button/>');\n",
       "        button.addClass('ui-button ui-widget ui-state-default ui-corner-all ' +\n",
       "                        'ui-button-icon-only');\n",
       "        button.attr('role', 'button');\n",
       "        button.attr('aria-disabled', 'false');\n",
       "        button.click(method_name, toolbar_event);\n",
       "        button.mouseover(tooltip, toolbar_mouse_event);\n",
       "\n",
       "        var icon_img = $('<span/>');\n",
       "        icon_img.addClass('ui-button-icon-primary ui-icon');\n",
       "        icon_img.addClass(image);\n",
       "        icon_img.addClass('ui-corner-all');\n",
       "\n",
       "        var tooltip_span = $('<span/>');\n",
       "        tooltip_span.addClass('ui-button-text');\n",
       "        tooltip_span.html(tooltip);\n",
       "\n",
       "        button.append(icon_img);\n",
       "        button.append(tooltip_span);\n",
       "\n",
       "        nav_element.append(button);\n",
       "    }\n",
       "\n",
       "    var fmt_picker_span = $('<span/>');\n",
       "\n",
       "    var fmt_picker = $('<select/>');\n",
       "    fmt_picker.addClass('mpl-toolbar-option ui-widget ui-widget-content');\n",
       "    fmt_picker_span.append(fmt_picker);\n",
       "    nav_element.append(fmt_picker_span);\n",
       "    this.format_dropdown = fmt_picker[0];\n",
       "\n",
       "    for (var ind in mpl.extensions) {\n",
       "        var fmt = mpl.extensions[ind];\n",
       "        var option = $(\n",
       "            '<option/>', {selected: fmt === mpl.default_extension}).html(fmt);\n",
       "        fmt_picker.append(option)\n",
       "    }\n",
       "\n",
       "    // Add hover states to the ui-buttons\n",
       "    $( \".ui-button\" ).hover(\n",
       "        function() { $(this).addClass(\"ui-state-hover\");},\n",
       "        function() { $(this).removeClass(\"ui-state-hover\");}\n",
       "    );\n",
       "\n",
       "    var status_bar = $('<span class=\"mpl-message\"/>');\n",
       "    nav_element.append(status_bar);\n",
       "    this.message = status_bar[0];\n",
       "}\n",
       "\n",
       "mpl.figure.prototype.request_resize = function(x_pixels, y_pixels) {\n",
       "    // Request matplotlib to resize the figure. Matplotlib will then trigger a resize in the client,\n",
       "    // which will in turn request a refresh of the image.\n",
       "    this.send_message('resize', {'width': x_pixels, 'height': y_pixels});\n",
       "}\n",
       "\n",
       "mpl.figure.prototype.send_message = function(type, properties) {\n",
       "    properties['type'] = type;\n",
       "    properties['figure_id'] = this.id;\n",
       "    this.ws.send(JSON.stringify(properties));\n",
       "}\n",
       "\n",
       "mpl.figure.prototype.send_draw_message = function() {\n",
       "    if (!this.waiting) {\n",
       "        this.waiting = true;\n",
       "        this.ws.send(JSON.stringify({type: \"draw\", figure_id: this.id}));\n",
       "    }\n",
       "}\n",
       "\n",
       "\n",
       "mpl.figure.prototype.handle_save = function(fig, msg) {\n",
       "    var format_dropdown = fig.format_dropdown;\n",
       "    var format = format_dropdown.options[format_dropdown.selectedIndex].value;\n",
       "    fig.ondownload(fig, format);\n",
       "}\n",
       "\n",
       "\n",
       "mpl.figure.prototype.handle_resize = function(fig, msg) {\n",
       "    var size = msg['size'];\n",
       "    if (size[0] != fig.canvas.width || size[1] != fig.canvas.height) {\n",
       "        fig._resize_canvas(size[0], size[1]);\n",
       "        fig.send_message(\"refresh\", {});\n",
       "    };\n",
       "}\n",
       "\n",
       "mpl.figure.prototype.handle_rubberband = function(fig, msg) {\n",
       "    var x0 = msg['x0'] / mpl.ratio;\n",
       "    var y0 = (fig.canvas.height - msg['y0']) / mpl.ratio;\n",
       "    var x1 = msg['x1'] / mpl.ratio;\n",
       "    var y1 = (fig.canvas.height - msg['y1']) / mpl.ratio;\n",
       "    x0 = Math.floor(x0) + 0.5;\n",
       "    y0 = Math.floor(y0) + 0.5;\n",
       "    x1 = Math.floor(x1) + 0.5;\n",
       "    y1 = Math.floor(y1) + 0.5;\n",
       "    var min_x = Math.min(x0, x1);\n",
       "    var min_y = Math.min(y0, y1);\n",
       "    var width = Math.abs(x1 - x0);\n",
       "    var height = Math.abs(y1 - y0);\n",
       "\n",
       "    fig.rubberband_context.clearRect(\n",
       "        0, 0, fig.canvas.width, fig.canvas.height);\n",
       "\n",
       "    fig.rubberband_context.strokeRect(min_x, min_y, width, height);\n",
       "}\n",
       "\n",
       "mpl.figure.prototype.handle_figure_label = function(fig, msg) {\n",
       "    // Updates the figure title.\n",
       "    fig.header.textContent = msg['label'];\n",
       "}\n",
       "\n",
       "mpl.figure.prototype.handle_cursor = function(fig, msg) {\n",
       "    var cursor = msg['cursor'];\n",
       "    switch(cursor)\n",
       "    {\n",
       "    case 0:\n",
       "        cursor = 'pointer';\n",
       "        break;\n",
       "    case 1:\n",
       "        cursor = 'default';\n",
       "        break;\n",
       "    case 2:\n",
       "        cursor = 'crosshair';\n",
       "        break;\n",
       "    case 3:\n",
       "        cursor = 'move';\n",
       "        break;\n",
       "    }\n",
       "    fig.rubberband_canvas.style.cursor = cursor;\n",
       "}\n",
       "\n",
       "mpl.figure.prototype.handle_message = function(fig, msg) {\n",
       "    fig.message.textContent = msg['message'];\n",
       "}\n",
       "\n",
       "mpl.figure.prototype.handle_draw = function(fig, msg) {\n",
       "    // Request the server to send over a new figure.\n",
       "    fig.send_draw_message();\n",
       "}\n",
       "\n",
       "mpl.figure.prototype.handle_image_mode = function(fig, msg) {\n",
       "    fig.image_mode = msg['mode'];\n",
       "}\n",
       "\n",
       "mpl.figure.prototype.updated_canvas_event = function() {\n",
       "    // Called whenever the canvas gets updated.\n",
       "    this.send_message(\"ack\", {});\n",
       "}\n",
       "\n",
       "// A function to construct a web socket function for onmessage handling.\n",
       "// Called in the figure constructor.\n",
       "mpl.figure.prototype._make_on_message_function = function(fig) {\n",
       "    return function socket_on_message(evt) {\n",
       "        if (evt.data instanceof Blob) {\n",
       "            /* FIXME: We get \"Resource interpreted as Image but\n",
       "             * transferred with MIME type text/plain:\" errors on\n",
       "             * Chrome.  But how to set the MIME type?  It doesn't seem\n",
       "             * to be part of the websocket stream */\n",
       "            evt.data.type = \"image/png\";\n",
       "\n",
       "            /* Free the memory for the previous frames */\n",
       "            if (fig.imageObj.src) {\n",
       "                (window.URL || window.webkitURL).revokeObjectURL(\n",
       "                    fig.imageObj.src);\n",
       "            }\n",
       "\n",
       "            fig.imageObj.src = (window.URL || window.webkitURL).createObjectURL(\n",
       "                evt.data);\n",
       "            fig.updated_canvas_event();\n",
       "            fig.waiting = false;\n",
       "            return;\n",
       "        }\n",
       "        else if (typeof evt.data === 'string' && evt.data.slice(0, 21) == \"data:image/png;base64\") {\n",
       "            fig.imageObj.src = evt.data;\n",
       "            fig.updated_canvas_event();\n",
       "            fig.waiting = false;\n",
       "            return;\n",
       "        }\n",
       "\n",
       "        var msg = JSON.parse(evt.data);\n",
       "        var msg_type = msg['type'];\n",
       "\n",
       "        // Call the  \"handle_{type}\" callback, which takes\n",
       "        // the figure and JSON message as its only arguments.\n",
       "        try {\n",
       "            var callback = fig[\"handle_\" + msg_type];\n",
       "        } catch (e) {\n",
       "            console.log(\"No handler for the '\" + msg_type + \"' message type: \", msg);\n",
       "            return;\n",
       "        }\n",
       "\n",
       "        if (callback) {\n",
       "            try {\n",
       "                // console.log(\"Handling '\" + msg_type + \"' message: \", msg);\n",
       "                callback(fig, msg);\n",
       "            } catch (e) {\n",
       "                console.log(\"Exception inside the 'handler_\" + msg_type + \"' callback:\", e, e.stack, msg);\n",
       "            }\n",
       "        }\n",
       "    };\n",
       "}\n",
       "\n",
       "// from http://stackoverflow.com/questions/1114465/getting-mouse-location-in-canvas\n",
       "mpl.findpos = function(e) {\n",
       "    //this section is from http://www.quirksmode.org/js/events_properties.html\n",
       "    var targ;\n",
       "    if (!e)\n",
       "        e = window.event;\n",
       "    if (e.target)\n",
       "        targ = e.target;\n",
       "    else if (e.srcElement)\n",
       "        targ = e.srcElement;\n",
       "    if (targ.nodeType == 3) // defeat Safari bug\n",
       "        targ = targ.parentNode;\n",
       "\n",
       "    // jQuery normalizes the pageX and pageY\n",
       "    // pageX,Y are the mouse positions relative to the document\n",
       "    // offset() returns the position of the element relative to the document\n",
       "    var x = e.pageX - $(targ).offset().left;\n",
       "    var y = e.pageY - $(targ).offset().top;\n",
       "\n",
       "    return {\"x\": x, \"y\": y};\n",
       "};\n",
       "\n",
       "/*\n",
       " * return a copy of an object with only non-object keys\n",
       " * we need this to avoid circular references\n",
       " * http://stackoverflow.com/a/24161582/3208463\n",
       " */\n",
       "function simpleKeys (original) {\n",
       "  return Object.keys(original).reduce(function (obj, key) {\n",
       "    if (typeof original[key] !== 'object')\n",
       "        obj[key] = original[key]\n",
       "    return obj;\n",
       "  }, {});\n",
       "}\n",
       "\n",
       "mpl.figure.prototype.mouse_event = function(event, name) {\n",
       "    var canvas_pos = mpl.findpos(event)\n",
       "\n",
       "    if (name === 'button_press')\n",
       "    {\n",
       "        this.canvas.focus();\n",
       "        this.canvas_div.focus();\n",
       "    }\n",
       "\n",
       "    var x = canvas_pos.x * mpl.ratio;\n",
       "    var y = canvas_pos.y * mpl.ratio;\n",
       "\n",
       "    this.send_message(name, {x: x, y: y, button: event.button,\n",
       "                             step: event.step,\n",
       "                             guiEvent: simpleKeys(event)});\n",
       "\n",
       "    /* This prevents the web browser from automatically changing to\n",
       "     * the text insertion cursor when the button is pressed.  We want\n",
       "     * to control all of the cursor setting manually through the\n",
       "     * 'cursor' event from matplotlib */\n",
       "    event.preventDefault();\n",
       "    return false;\n",
       "}\n",
       "\n",
       "mpl.figure.prototype._key_event_extra = function(event, name) {\n",
       "    // Handle any extra behaviour associated with a key event\n",
       "}\n",
       "\n",
       "mpl.figure.prototype.key_event = function(event, name) {\n",
       "\n",
       "    // Prevent repeat events\n",
       "    if (name == 'key_press')\n",
       "    {\n",
       "        if (event.which === this._key)\n",
       "            return;\n",
       "        else\n",
       "            this._key = event.which;\n",
       "    }\n",
       "    if (name == 'key_release')\n",
       "        this._key = null;\n",
       "\n",
       "    var value = '';\n",
       "    if (event.ctrlKey && event.which != 17)\n",
       "        value += \"ctrl+\";\n",
       "    if (event.altKey && event.which != 18)\n",
       "        value += \"alt+\";\n",
       "    if (event.shiftKey && event.which != 16)\n",
       "        value += \"shift+\";\n",
       "\n",
       "    value += 'k';\n",
       "    value += event.which.toString();\n",
       "\n",
       "    this._key_event_extra(event, name);\n",
       "\n",
       "    this.send_message(name, {key: value,\n",
       "                             guiEvent: simpleKeys(event)});\n",
       "    return false;\n",
       "}\n",
       "\n",
       "mpl.figure.prototype.toolbar_button_onclick = function(name) {\n",
       "    if (name == 'download') {\n",
       "        this.handle_save(this, null);\n",
       "    } else {\n",
       "        this.send_message(\"toolbar_button\", {name: name});\n",
       "    }\n",
       "};\n",
       "\n",
       "mpl.figure.prototype.toolbar_button_onmouseover = function(tooltip) {\n",
       "    this.message.textContent = tooltip;\n",
       "};\n",
       "mpl.toolbar_items = [[\"Home\", \"Reset original view\", \"fa fa-home icon-home\", \"home\"], [\"Back\", \"Back to  previous view\", \"fa fa-arrow-left icon-arrow-left\", \"back\"], [\"Forward\", \"Forward to next view\", \"fa fa-arrow-right icon-arrow-right\", \"forward\"], [\"\", \"\", \"\", \"\"], [\"Pan\", \"Pan axes with left mouse, zoom with right\", \"fa fa-arrows icon-move\", \"pan\"], [\"Zoom\", \"Zoom to rectangle\", \"fa fa-square-o icon-check-empty\", \"zoom\"], [\"\", \"\", \"\", \"\"], [\"Download\", \"Download plot\", \"fa fa-floppy-o icon-save\", \"download\"]];\n",
       "\n",
       "mpl.extensions = [\"eps\", \"jpeg\", \"pdf\", \"png\", \"ps\", \"raw\", \"svg\", \"tif\"];\n",
       "\n",
       "mpl.default_extension = \"png\";var comm_websocket_adapter = function(comm) {\n",
       "    // Create a \"websocket\"-like object which calls the given IPython comm\n",
       "    // object with the appropriate methods. Currently this is a non binary\n",
       "    // socket, so there is still some room for performance tuning.\n",
       "    var ws = {};\n",
       "\n",
       "    ws.close = function() {\n",
       "        comm.close()\n",
       "    };\n",
       "    ws.send = function(m) {\n",
       "        //console.log('sending', m);\n",
       "        comm.send(m);\n",
       "    };\n",
       "    // Register the callback with on_msg.\n",
       "    comm.on_msg(function(msg) {\n",
       "        //console.log('receiving', msg['content']['data'], msg);\n",
       "        // Pass the mpl event to the overridden (by mpl) onmessage function.\n",
       "        ws.onmessage(msg['content']['data'])\n",
       "    });\n",
       "    return ws;\n",
       "}\n",
       "\n",
       "mpl.mpl_figure_comm = function(comm, msg) {\n",
       "    // This is the function which gets called when the mpl process\n",
       "    // starts-up an IPython Comm through the \"matplotlib\" channel.\n",
       "\n",
       "    var id = msg.content.data.id;\n",
       "    // Get hold of the div created by the display call when the Comm\n",
       "    // socket was opened in Python.\n",
       "    var element = $(\"#\" + id);\n",
       "    var ws_proxy = comm_websocket_adapter(comm)\n",
       "\n",
       "    function ondownload(figure, format) {\n",
       "        window.open(figure.imageObj.src);\n",
       "    }\n",
       "\n",
       "    var fig = new mpl.figure(id, ws_proxy,\n",
       "                           ondownload,\n",
       "                           element.get(0));\n",
       "\n",
       "    // Call onopen now - mpl needs it, as it is assuming we've passed it a real\n",
       "    // web socket which is closed, not our websocket->open comm proxy.\n",
       "    ws_proxy.onopen();\n",
       "\n",
       "    fig.parent_element = element.get(0);\n",
       "    fig.cell_info = mpl.find_output_cell(\"<div id='\" + id + \"'></div>\");\n",
       "    if (!fig.cell_info) {\n",
       "        console.error(\"Failed to find cell for figure\", id, fig);\n",
       "        return;\n",
       "    }\n",
       "\n",
       "    var output_index = fig.cell_info[2]\n",
       "    var cell = fig.cell_info[0];\n",
       "\n",
       "};\n",
       "\n",
       "mpl.figure.prototype.handle_close = function(fig, msg) {\n",
       "    var width = fig.canvas.width/mpl.ratio\n",
       "    fig.root.unbind('remove')\n",
       "\n",
       "    // Update the output cell to use the data from the current canvas.\n",
       "    fig.push_to_output();\n",
       "    var dataURL = fig.canvas.toDataURL();\n",
       "    // Re-enable the keyboard manager in IPython - without this line, in FF,\n",
       "    // the notebook keyboard shortcuts fail.\n",
       "    IPython.keyboard_manager.enable()\n",
       "    $(fig.parent_element).html('<img src=\"' + dataURL + '\" width=\"' + width + '\">');\n",
       "    fig.close_ws(fig, msg);\n",
       "}\n",
       "\n",
       "mpl.figure.prototype.close_ws = function(fig, msg){\n",
       "    fig.send_message('closing', msg);\n",
       "    // fig.ws.close()\n",
       "}\n",
       "\n",
       "mpl.figure.prototype.push_to_output = function(remove_interactive) {\n",
       "    // Turn the data on the canvas into data in the output cell.\n",
       "    var width = this.canvas.width/mpl.ratio\n",
       "    var dataURL = this.canvas.toDataURL();\n",
       "    this.cell_info[1]['text/html'] = '<img src=\"' + dataURL + '\" width=\"' + width + '\">';\n",
       "}\n",
       "\n",
       "mpl.figure.prototype.updated_canvas_event = function() {\n",
       "    // Tell IPython that the notebook contents must change.\n",
       "    IPython.notebook.set_dirty(true);\n",
       "    this.send_message(\"ack\", {});\n",
       "    var fig = this;\n",
       "    // Wait a second, then push the new image to the DOM so\n",
       "    // that it is saved nicely (might be nice to debounce this).\n",
       "    setTimeout(function () { fig.push_to_output() }, 1000);\n",
       "}\n",
       "\n",
       "mpl.figure.prototype._init_toolbar = function() {\n",
       "    var fig = this;\n",
       "\n",
       "    var nav_element = $('<div/>')\n",
       "    nav_element.attr('style', 'width: 100%');\n",
       "    this.root.append(nav_element);\n",
       "\n",
       "    // Define a callback function for later on.\n",
       "    function toolbar_event(event) {\n",
       "        return fig.toolbar_button_onclick(event['data']);\n",
       "    }\n",
       "    function toolbar_mouse_event(event) {\n",
       "        return fig.toolbar_button_onmouseover(event['data']);\n",
       "    }\n",
       "\n",
       "    for(var toolbar_ind in mpl.toolbar_items){\n",
       "        var name = mpl.toolbar_items[toolbar_ind][0];\n",
       "        var tooltip = mpl.toolbar_items[toolbar_ind][1];\n",
       "        var image = mpl.toolbar_items[toolbar_ind][2];\n",
       "        var method_name = mpl.toolbar_items[toolbar_ind][3];\n",
       "\n",
       "        if (!name) { continue; };\n",
       "\n",
       "        var button = $('<button class=\"btn btn-default\" href=\"#\" title=\"' + name + '\"><i class=\"fa ' + image + ' fa-lg\"></i></button>');\n",
       "        button.click(method_name, toolbar_event);\n",
       "        button.mouseover(tooltip, toolbar_mouse_event);\n",
       "        nav_element.append(button);\n",
       "    }\n",
       "\n",
       "    // Add the status bar.\n",
       "    var status_bar = $('<span class=\"mpl-message\" style=\"text-align:right; float: right;\"/>');\n",
       "    nav_element.append(status_bar);\n",
       "    this.message = status_bar[0];\n",
       "\n",
       "    // Add the close button to the window.\n",
       "    var buttongrp = $('<div class=\"btn-group inline pull-right\"></div>');\n",
       "    var button = $('<button class=\"btn btn-mini btn-primary\" href=\"#\" title=\"Stop Interaction\"><i class=\"fa fa-power-off icon-remove icon-large\"></i></button>');\n",
       "    button.click(function (evt) { fig.handle_close(fig, {}); } );\n",
       "    button.mouseover('Stop Interaction', toolbar_mouse_event);\n",
       "    buttongrp.append(button);\n",
       "    var titlebar = this.root.find($('.ui-dialog-titlebar'));\n",
       "    titlebar.prepend(buttongrp);\n",
       "}\n",
       "\n",
       "mpl.figure.prototype._root_extra_style = function(el){\n",
       "    var fig = this\n",
       "    el.on(\"remove\", function(){\n",
       "\tfig.close_ws(fig, {});\n",
       "    });\n",
       "}\n",
       "\n",
       "mpl.figure.prototype._canvas_extra_style = function(el){\n",
       "    // this is important to make the div 'focusable\n",
       "    el.attr('tabindex', 0)\n",
       "    // reach out to IPython and tell the keyboard manager to turn it's self\n",
       "    // off when our div gets focus\n",
       "\n",
       "    // location in version 3\n",
       "    if (IPython.notebook.keyboard_manager) {\n",
       "        IPython.notebook.keyboard_manager.register_events(el);\n",
       "    }\n",
       "    else {\n",
       "        // location in version 2\n",
       "        IPython.keyboard_manager.register_events(el);\n",
       "    }\n",
       "\n",
       "}\n",
       "\n",
       "mpl.figure.prototype._key_event_extra = function(event, name) {\n",
       "    var manager = IPython.notebook.keyboard_manager;\n",
       "    if (!manager)\n",
       "        manager = IPython.keyboard_manager;\n",
       "\n",
       "    // Check for shift+enter\n",
       "    if (event.shiftKey && event.which == 13) {\n",
       "        this.canvas_div.blur();\n",
       "        event.shiftKey = false;\n",
       "        // Send a \"J\" for go to next cell\n",
       "        event.which = 74;\n",
       "        event.keyCode = 74;\n",
       "        manager.command_mode();\n",
       "        manager.handle_keydown(event);\n",
       "    }\n",
       "}\n",
       "\n",
       "mpl.figure.prototype.handle_save = function(fig, msg) {\n",
       "    fig.ondownload(fig, null);\n",
       "}\n",
       "\n",
       "\n",
       "mpl.find_output_cell = function(html_output) {\n",
       "    // Return the cell and output element which can be found *uniquely* in the notebook.\n",
       "    // Note - this is a bit hacky, but it is done because the \"notebook_saving.Notebook\"\n",
       "    // IPython event is triggered only after the cells have been serialised, which for\n",
       "    // our purposes (turning an active figure into a static one), is too late.\n",
       "    var cells = IPython.notebook.get_cells();\n",
       "    var ncells = cells.length;\n",
       "    for (var i=0; i<ncells; i++) {\n",
       "        var cell = cells[i];\n",
       "        if (cell.cell_type === 'code'){\n",
       "            for (var j=0; j<cell.output_area.outputs.length; j++) {\n",
       "                var data = cell.output_area.outputs[j];\n",
       "                if (data.data) {\n",
       "                    // IPython >= 3 moved mimebundle to data attribute of output\n",
       "                    data = data.data;\n",
       "                }\n",
       "                if (data['text/html'] == html_output) {\n",
       "                    return [cell, data, j];\n",
       "                }\n",
       "            }\n",
       "        }\n",
       "    }\n",
       "}\n",
       "\n",
       "// Register the function which deals with the matplotlib target/channel.\n",
       "// The kernel may be null if the page has been refreshed.\n",
       "if (IPython.notebook.kernel != null) {\n",
       "    IPython.notebook.kernel.comm_manager.register_target('matplotlib', mpl.mpl_figure_comm);\n",
       "}\n"
      ],
      "text/plain": [
       "<IPython.core.display.Javascript object>"
      ]
     },
     "metadata": {},
     "output_type": "display_data"
    },
    {
     "data": {
      "text/html": [
       "<img src=\"data:image/png;base64,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\" width=\"600\">"
      ],
      "text/plain": [
       "<IPython.core.display.HTML object>"
      ]
     },
     "metadata": {},
     "output_type": "display_data"
    }
   ],
   "source": [
    "fig = plt.figure(figsize=(6,3))\n",
    "ax = fig.add_subplot(111, projection='3d')\n",
    "ax.scatter(x1, x2, y, marker='o')\n",
    "\n",
    "ax.set_xlabel('x1 Label')\n",
    "ax.set_ylabel('x2 Label')\n",
    "ax.set_zlabel('y Label')\n",
    "\n",
    "plt.show()"
   ]
  },
  {
   "cell_type": "markdown",
   "metadata": {},
   "source": [
    "#### Initialize the weights"
   ]
  },
  {
   "cell_type": "code",
   "execution_count": 6,
   "metadata": {},
   "outputs": [
    {
     "name": "stdout",
     "output_type": "stream",
     "text": [
      "[ 0.49671415 -0.1382643   0.64768854]\n"
     ]
    }
   ],
   "source": [
    "np.random.seed(42)\n",
    "mean = 0.0\n",
    "stddev = 1.0\n",
    "w = np.random.normal(mean,stddev,X.shape[1]+1)\n",
    "print(w)"
   ]
  },
  {
   "cell_type": "markdown",
   "metadata": {},
   "source": [
    "Which is basically the $\\vec\\theta{}$ vector \n",
    "$$ \\mathbf{\\vec\\theta{}} = \n",
    "\\begin{bmatrix} \\theta{}_{0} \\\\ \\theta{}_{1} \\\\ \\theta{}_{2} \\end{bmatrix} = \n",
    "\\begin{bmatrix} 0.496 \\\\ -0.138 \\\\ 0.647 \\end{bmatrix}\n",
    "$$"
   ]
  },
  {
   "cell_type": "markdown",
   "metadata": {},
   "source": [
    "#### Visualizing the dataset "
   ]
  },
  {
   "cell_type": "code",
   "execution_count": 7,
   "metadata": {},
   "outputs": [
    {
     "name": "stdout",
     "output_type": "stream",
     "text": [
      "[[0.74053172 2.09364547]\n",
      " [2.17160779 1.9798344 ]]\n",
      "[ 5.1287483  10.97131227]\n"
     ]
    }
   ],
   "source": [
    "# First two and the last value of X\n",
    "print(X[:2])\n",
    "print(X[-1])"
   ]
  },
  {
   "cell_type": "code",
   "execution_count": 8,
   "metadata": {},
   "outputs": [
    {
     "name": "stdout",
     "output_type": "stream",
     "text": [
      "[79.52318964 91.23045864]\n",
      "89.82004616508783\n"
     ]
    }
   ],
   "source": [
    "# First two and the last value of y\n",
    "print(y[:2])\n",
    "print(y[-1])"
   ]
  },
  {
   "cell_type": "markdown",
   "metadata": {},
   "source": [
    "$$ X=\n",
    "\\begin{bmatrix} \n",
    "x_{0}^{(1)} & x_{1}^{(1)} & x_{2}^{(1)} \\\\\n",
    "x_{0}^{(2)} & x_{1}^{(2)} & x_{2}^{(2)} \\\\\n",
    "\\vdots & \\vdots & \\vdots \\\\ \n",
    "x_{0}^{(1000)} & x_{1}^{(1000)} & x_{2}^{(1000)}  \\end{bmatrix}\n",
    "=\n",
    "\\begin{bmatrix} \n",
    "1 & 0.740 & 2.093 \\\\\n",
    "1 & 2.171 & 1.979 \\\\\n",
    "\\vdots & \\vdots & \\vdots \\\\ \n",
    "1 & 5.128 & 10.971  \\end{bmatrix}\n",
    "$$ <br><br>\n",
    "$$\n",
    "Y = \\begin{bmatrix} y^{(1)} \\\\  y^{(2)} \\\\ \\vdots \\\\  y^{(m)} \\end{bmatrix}\n",
    "= \\begin{bmatrix} 79.523 \\\\  91.230 \\\\ \\vdots \\\\  89.820 \\end{bmatrix}\n",
    "$$"
   ]
  },
  {
   "cell_type": "markdown",
   "metadata": {},
   "source": [
    "Using the dummy dataset above, and the imaginary $x_{0}$ column which is all $1$'s <br>\n",
    "The $X$ design matrix is also\n",
    "<br><br>\n",
    "$$\n",
    "X = \\begin{bmatrix} (x^{(1)})^{T} \\\\ (x^{(2)})^{T} \\\\ \\vdots \\\\ (x^{(m)})^{T} \\end{bmatrix}\n",
    "$$ \n",
    "recall where, \n",
    "$$(x^{(1)})^{T}=\n",
    "\\begin{bmatrix} x_{0}^{(1)} & x_{1}^{(1)} & \\cdots & x_{n}^{(1)} \\end{bmatrix}\n",
    "\\;\\; ,\\;\\;\n",
    "\\theta{}=\n",
    "\\begin{bmatrix} \\theta{}_{0} \\\\ \\theta{}_{1} \\\\ \\vdots \\\\ \\theta{}_{n} \\end{bmatrix}\n",
    "$$ <br><br>\n",
    "Writing the $h_{\\theta}(x^{(i)})$ format with the variables above,\n",
    "$$  h_{\\theta{}}(x^{(i)}) = \\theta{}_{0}x_{0}^{(i)} + \\theta{}_{1}x_{1}^{(i)} +\\theta{}_{2}x_{2}^{(i)}  $$ <br>\n",
    "Which $h_{\\theta{}}(x^{(i)})$ can be rewritten as,\n",
    "$$ h_{\\theta{}}(x^{(i)}) = (x^{(i)})^{T}\\theta{} = X\\theta{}$$"
   ]
  },
  {
   "cell_type": "markdown",
   "metadata": {},
   "source": [
    "The goal is to get it into this format to find the error term as a vector. <br><br>\n",
    "$$\n",
    "X\\theta{} - Y= \n",
    "\\begin{bmatrix} h_{\\theta}(x^{(1)}) - y^{(1)} \\\\ h_{\\theta}(x^{(2)}) - y^{(2)} \\\\ \\vdots \\\\ h_{\\theta}(x^{(m)}) - y^{(m)} \\end{bmatrix} \n",
    "$$"
   ]
  },
  {
   "cell_type": "markdown",
   "metadata": {},
   "source": [
    "### Method 1 : np version"
   ]
  },
  {
   "cell_type": "markdown",
   "metadata": {},
   "source": [
    "Variables slightly rewritten with the given dataset. $x_{ij}$, where $i=1,2,\\cdots, m \\;$  and  $\\; j=1,2$ <br>\n",
    "since $x_{0}=1$, it will be replaced with $w_{0}$"
   ]
  },
  {
   "cell_type": "markdown",
   "metadata": {},
   "source": [
    "the code `np.dot(x, w[1:]) + w[0]` computed on numpy is essentially,\n",
    "<br><br>\n",
    "$$\n",
    "\\begin{bmatrix} x_{11} & x_{12} \\\\ x_{21} & x_{22}  \\\\ \\vdots & \\vdots \\\\ x_{m1} & x_{m2}  \\end{bmatrix}\n",
    "\\begin{bmatrix} w_{1} \\\\ w_{2} \\end{bmatrix}\n",
    "+ w_{0} \\begin{bmatrix} 1 \\\\ 1 \\\\ \\vdots \\\\ 1 \\end{bmatrix} =\n",
    "\\begin{bmatrix} x_{11}w_{1} + x_{12}w_{2} + w_{0} \\\\ x_{21}w_{1} + x_{22}w_{2} + w_{0}  \\\\ \\vdots  \\\\ x_{m1}w_{1} + x_{m2}w_{2} + w_{0}  \\end{bmatrix}\n",
    "$$ <br>\n",
    "Which is the format that resembles <br>\n",
    "$$h_{\\theta{}}(x^{(i)}) = \\theta{}_{0}x_{0}^{(i)} + \\theta{}_{1}x_{1}^{(i)} +\\theta{}_{2}x_{2}^{(i)}$$ <br>"
   ]
  },
  {
   "cell_type": "code",
   "execution_count": 9,
   "metadata": {},
   "outputs": [],
   "source": [
    "\"\"\" LinReg Activation function,\n",
    "template lifted from the production/brand-and-performance/util Neural Network constructor \"\"\"\n",
    "def prediction(x, w):\n",
    "    return np.dot(x, w[1:]) + w[0]\n",
    "def activation(x, w):\n",
    "    return prediction(x, w)\n",
    "def errors(x, w, y):\n",
    "    return (activation(x, w) - y)\n",
    "def sqerrors(x, w, y):\n",
    "    return (errors(x, w, y))**2\n",
    "def loss(x, w, y):\n",
    "    return np.mean(sqerrors(x, w, y))"
   ]
  },
  {
   "cell_type": "markdown",
   "metadata": {},
   "source": [
    "The activation function is simply $h_{\\theta}(x^{(i)})$, which is the prediction function for the Linear Regression"
   ]
  },
  {
   "cell_type": "code",
   "execution_count": 10,
   "metadata": {},
   "outputs": [
    {
     "name": "stdout",
     "output_type": "stream",
     "text": [
      "Shape is: (1000,)\n",
      "i=1    prediction: 1.750355226585056\n",
      "i=2    prediction: 1.478774365025015\n",
      "i=1000 prediction: 6.89358456108529\n"
     ]
    }
   ],
   "source": [
    "print(\"Shape is:\",activation(X,w).shape)\n",
    "print(\"i=1    prediction:\", activation(X,w)[0])\n",
    "print(\"i=2    prediction:\", activation(X,w)[1])\n",
    "print(\"i=1000 prediction:\", activation(X,w)[-1])"
   ]
  },
  {
   "cell_type": "code",
   "execution_count": 11,
   "metadata": {},
   "outputs": [
    {
     "name": "stdout",
     "output_type": "stream",
     "text": [
      "i=1    errors: -77.7728344163316\n",
      "i=2    errors: -89.75168427879879\n",
      "i=1000 errors: -82.92646160400254\n"
     ]
    }
   ],
   "source": [
    "print(\"i=1    errors:\", errors(X,w,y)[0])\n",
    "print(\"i=2    errors:\", errors(X,w,y)[1])\n",
    "print(\"i=1000 errors:\", errors(X,w,y)[-1])"
   ]
  },
  {
   "cell_type": "markdown",
   "metadata": {},
   "source": [
    "Review the LinA above if you need a refresher on how to matrix multiply.<br>\n",
    "i.e. for row 1 of the dataset, see the example below for the full calculation for i=1\n",
    "<br><br>\n",
    "$h_{\\theta}(x^{(1)}) = (1)(0.49671415) + (0.74053172)(-0.1382643) + (2.09364547)(0.64768854) = 1.750355226585056$ <br>\n",
    "$errors^{(1)} = 1.750355226585056 - 79.52318964 = -77.7728344163316$"
   ]
  },
  {
   "cell_type": "markdown",
   "metadata": {},
   "source": [
    "$$ errors = \n",
    "X\\theta{} - Y=\n",
    "\\begin{bmatrix} \n",
    "1 & 0.740 & 2.093 \\\\\n",
    "1 & 2.171 & 1.979 \\\\\n",
    "\\vdots & \\vdots & \\vdots \\\\ \n",
    "1 & 5.128 & 10.971  \\end{bmatrix}\n",
    "\\begin{bmatrix} 0.496 \\\\ -0.138 \\\\ 0.647 \\end{bmatrix}\n",
    "-\n",
    "\\begin{bmatrix} 79.523 \\\\  91.230 \\\\ \\vdots \\\\  89.820 \\end{bmatrix}\n",
    "$$ <br><br>\n",
    "$$ errors\n",
    "= \\;\\;\n",
    "\\begin{bmatrix} 1.750 \\\\  1.478 \\\\ \\vdots \\\\  6.893 \\end{bmatrix}\n",
    "- \\begin{bmatrix} 79.523 \\\\  91.230 \\\\ \\vdots \\\\  89.820 \\end{bmatrix}\n",
    "= \\begin{bmatrix} -77.772 \\\\  -89.751 \\\\ \\vdots \\\\  -82.926 \\end{bmatrix}\n",
    "$$"
   ]
  },
  {
   "cell_type": "markdown",
   "metadata": {},
   "source": [
    "**Note: Numbers are not rounded, I just copied the number stopping at the third decimal <br>"
   ]
  },
  {
   "cell_type": "code",
   "execution_count": 12,
   "metadata": {},
   "outputs": [
    {
     "name": "stdout",
     "output_type": "stream",
     "text": [
      "i=1    errsq: 6048.613773150134\n",
      "i=2    errsq: 8055.364830881178\n",
      "i=1000 errsq: 6876.798034160108\n"
     ]
    }
   ],
   "source": [
    "print(\"i=1    errsq:\", sqerrors(X,w,y)[0])\n",
    "print(\"i=2    errsq:\", sqerrors(X,w,y)[1])\n",
    "print(\"i=1000 errsq:\", sqerrors(X,w,y)[-1])"
   ]
  },
  {
   "cell_type": "markdown",
   "metadata": {},
   "source": [
    "$$ errsq\n",
    "= \\begin{bmatrix} -77.772^{2} \\\\  -89.751^{2} \\\\ \\vdots \\\\  -82.926^{2} \\end{bmatrix}\n",
    "= \\begin{bmatrix} 6048.613 \\\\  8055.364 \\\\ \\vdots \\\\  6876.798 \\end{bmatrix}\n",
    "$$"
   ]
  },
  {
   "cell_type": "code",
   "execution_count": 13,
   "metadata": {},
   "outputs": [
    {
     "name": "stdout",
     "output_type": "stream",
     "text": [
      "The inital \"loss\" score:  6790.2590234126355\n"
     ]
    }
   ],
   "source": [
    "print('The inital \"loss\" score: ', loss(X,w,y))"
   ]
  },
  {
   "cell_type": "markdown",
   "metadata": {},
   "source": [
    "After each iteration, we update the weight vector $\\vec\\theta$ so that the loss score gets closer to 0."
   ]
  },
  {
   "cell_type": "markdown",
   "metadata": {},
   "source": [
    "$$\n",
    "\\begin{bmatrix} \n",
    "1 & 0.740 & 2.093 \\\\\n",
    "1 & 2.171 & 1.979 \\\\\n",
    "\\vdots & \\vdots & \\vdots \\\\ \n",
    "1 & 5.128 & 10.971  \\end{bmatrix}\n",
    "$$"
   ]
  },
  {
   "cell_type": "markdown",
   "metadata": {},
   "source": [
    "Recall from above,\n",
    "$$\n",
    "\\theta{}_{j} :=\n",
    "\\theta{}_{j} - \\alpha{}\\sum_{i=1}^{m} (h_{\\theta{}}(x^{(i)}) - y^{(i)}) \\; x^{(i)}_{j}\n",
    "$$\n",
    "and for example, let $j=0$ and $i=1,2$\n",
    "$$errors^{(1)} = h_{\\theta}(x^{(1)}) - y^{(1)} = -77.7728344163316$$ <br>\n",
    "$$errors^{(2)} = h_{\\theta}(x^{(2)}) - y^{(2)} = -89.75168427879879$$ <br>\n",
    "$$\\sum_{i=1}^{2}(h_{\\theta{}}(x^{(1)}) - y^{(1)}) \\; x^{(i)}_{0} \n",
    "= −77.7728344163316 \\cdot (1) + −89.75168427879879 \\cdot (1)$$"
   ]
  },
  {
   "cell_type": "markdown",
   "metadata": {},
   "source": [
    "And the code `np.dot(X.T, e_)` computed here implies this step $\\sum_{i=1}^{m}(h_{\\theta{}}(x^{(i)}) - y^{(i)}) \\; x^{(i)}_{j}$ <br><br>\n",
    "\n",
    "$$\n",
    "\\begin{bmatrix} \n",
    "1 & 1 & \\cdots & 1 \\\\\n",
    "0.740 & 2.171 & \\cdots & 5.128 \\\\\n",
    "2.093 & 1.979 & \\cdots & 10.971\n",
    "\\end{bmatrix}\n",
    "\\begin{bmatrix} -77.772 \\\\  -89.751 \\\\ \\vdots \\\\  -82.926 \\end{bmatrix}\n",
    "= \\text{(3x1 Matrix)}\n",
    "$$"
   ]
  },
  {
   "cell_type": "code",
   "execution_count": 14,
   "metadata": {
    "scrolled": true
   },
   "outputs": [
    {
     "name": "stdout",
     "output_type": "stream",
     "text": [
      "Validation loss after epoch 00: 3696.218\n",
      "Validation loss after epoch 100: 601.834\n",
      "Validation loss after epoch 200: 541.872\n",
      "Validation loss after epoch 300: 492.609\n",
      "Validation loss after epoch 400: 448.452\n",
      "Validation loss after epoch 500: 408.571\n",
      "Validation loss after epoch 600: 372.531\n",
      "Validation loss after epoch 700: 339.960\n",
      "Validation loss after epoch 800: 310.523\n",
      "Validation loss after epoch 900: 283.920\n",
      "Validation loss after epoch 1000: 259.876\n",
      "Validation loss after epoch 1100: 238.147\n",
      "Validation loss after epoch 1200: 218.509\n",
      "Validation loss after epoch 1300: 200.761\n",
      "Validation loss after epoch 1400: 184.722\n",
      "Validation loss after epoch 1500: 170.226\n",
      "Validation loss after epoch 1600: 157.125\n",
      "Validation loss after epoch 1700: 145.285\n",
      "Validation loss after epoch 1800: 134.584\n",
      "Validation loss after epoch 1900: 124.914\n",
      "Validation loss after epoch 2000: 116.174\n",
      "Validation loss after epoch 2100: 108.275\n",
      "Validation loss after epoch 2200: 101.136\n",
      "Validation loss after epoch 2300: 94.685\n",
      "Validation loss after epoch 2400: 88.854\n",
      "Validation loss after epoch 2500: 83.585\n",
      "Validation loss after epoch 2600: 78.823\n",
      "Validation loss after epoch 2700: 74.519\n",
      "Validation loss after epoch 2800: 70.629\n",
      "Validation loss after epoch 2900: 67.114\n",
      "Validation loss after epoch 3000: 63.937\n",
      "Validation loss after epoch 3100: 61.065\n",
      "Validation loss after epoch 3200: 58.470\n",
      "Validation loss after epoch 3300: 56.125\n",
      "Validation loss after epoch 3400: 54.006\n",
      "Validation loss after epoch 3500: 52.090\n",
      "Validation loss after epoch 3600: 50.359\n",
      "Validation loss after epoch 3700: 48.795\n",
      "Validation loss after epoch 3800: 47.381\n",
      "Validation loss after epoch 3900: 46.103\n",
      "Validation loss after epoch 4000: 44.948\n",
      "Validation loss after epoch 4100: 43.904\n",
      "Validation loss after epoch 4200: 42.961\n",
      "Validation loss after epoch 4300: 42.108\n",
      "Validation loss after epoch 4400: 41.338\n",
      "Validation loss after epoch 4500: 40.642\n",
      "Validation loss after epoch 4600: 40.012\n",
      "Validation loss after epoch 4700: 39.444\n",
      "Validation loss after epoch 4800: 38.930\n",
      "Validation loss after epoch 4900: 38.465\n",
      "Validation loss after epoch 5000: 38.045\n",
      "Validation loss after epoch 5100: 37.666\n",
      "Validation loss after epoch 5200: 37.323\n",
      "Validation loss after epoch 5300: 37.013\n",
      "Validation loss after epoch 5400: 36.733\n",
      "Validation loss after epoch 5500: 36.480\n",
      "Validation loss after epoch 5600: 36.251\n",
      "Validation loss after epoch 5700: 36.044\n",
      "Validation loss after epoch 5800: 35.858\n",
      "Validation loss after epoch 5900: 35.689\n",
      "Validation loss after epoch 6000: 35.536\n",
      "Validation loss after epoch 6100: 35.398\n",
      "Validation loss after epoch 6200: 35.274\n",
      "Validation loss after epoch 6300: 35.161\n",
      "Validation loss after epoch 6400: 35.059\n",
      "Validation loss after epoch 6500: 34.967\n",
      "Validation loss after epoch 6600: 34.884\n",
      "Validation loss after epoch 6700: 34.809\n",
      "Validation loss after epoch 6800: 34.741\n",
      "Validation loss after epoch 6900: 34.679\n",
      "Validation loss after epoch 7000: 34.624\n",
      "Validation loss after epoch 7100: 34.574\n",
      "Validation loss after epoch 7200: 34.529\n",
      "Validation loss after epoch 7300: 34.488\n",
      "Validation loss after epoch 7400: 34.451\n",
      "Validation loss after epoch 7500: 34.417\n",
      "Validation loss after epoch 7600: 34.387\n",
      "Validation loss after epoch 7700: 34.360\n",
      "Validation loss after epoch 7800: 34.335\n",
      "Validation loss after epoch 7900: 34.313\n",
      "Validation loss after epoch 8000: 34.292\n",
      "Validation loss after epoch 8100: 34.274\n",
      "Validation loss after epoch 8200: 34.258\n",
      "Validation loss after epoch 8300: 34.243\n",
      "Validation loss after epoch 8400: 34.229\n",
      "Validation loss after epoch 8500: 34.217\n",
      "Validation loss after epoch 8600: 34.206\n",
      "Validation loss after epoch 8700: 34.196\n",
      "Validation loss after epoch 8800: 34.187\n",
      "Validation loss after epoch 8900: 34.179\n",
      "Validation loss after epoch 9000: 34.172\n",
      "Validation loss after epoch 9100: 34.165\n",
      "Validation loss after epoch 9200: 34.159\n",
      "Validation loss after epoch 9300: 34.154\n",
      "Validation loss after epoch 9400: 34.149\n",
      "Validation loss after epoch 9500: 34.145\n",
      "Validation loss after epoch 9600: 34.141\n",
      "Validation loss after epoch 9700: 34.137\n",
      "Validation loss after epoch 9800: 34.134\n",
      "Validation loss after epoch 9900: 34.131\n",
      "Final Weights B: 79.251, W1: 0.275, W2: 0.934\n"
     ]
    }
   ],
   "source": [
    "learning_rate = 0.01\n",
    "epochs = 10000\n",
    "display_epoch = 100\n",
    "temp_w = w.copy()\n",
    "coef = (-0.5/len(X))\n",
    "for i in range(epochs):\n",
    "    e_ = errors(X, temp_w, y)\n",
    "    deltaw_ = learning_rate * coef * np.dot(X.T, e_) \n",
    "    deltab_ = learning_rate * coef * e_.sum()\n",
    "#     print(deltaw_, deltab_, \"sqerr: \", e_)\n",
    "    temp_w[1:] += deltaw_\n",
    "    temp_w[0] += deltab_\n",
    "    if i==0 or i % display_epoch == 0:\n",
    "        print(\"Validation loss after epoch {:02d}: {:.3f}\".format(i,loss(X, temp_w, y) ))\n",
    "print(\"Final Weights B: {:.3f}, W1: {:.3f}, W2: {:.3f}\".format(temp_w[0], temp_w[1], temp_w[2]))"
   ]
  },
  {
   "cell_type": "markdown",
   "metadata": {},
   "source": [
    "# Final Weights B: 79.251, W1: 0.275, W2: 0.934"
   ]
  },
  {
   "cell_type": "markdown",
   "metadata": {},
   "source": [
    "### Method 2: Tensorflow version"
   ]
  },
  {
   "cell_type": "code",
   "execution_count": 15,
   "metadata": {},
   "outputs": [],
   "source": [
    "\"\"\" Again, template lifted from the production/brand-and-performance/util Neural Network constructor \"\"\"\n",
    "def tf_prediction(x, w, b):\n",
    "    return tf.add(tf.matmul(x,w), b)\n",
    "def tf_activation(x, w, b):\n",
    "    return tf_prediction(x, w, b)\n",
    "def tf_errors(x, w, b, y):\n",
    "    return (y - tf_activation(x, w, b))\n",
    "def tf_sqerrors(x, w, b, y):\n",
    "    return tf.square(tf_errors(x,w,b,y))\n",
    "def tf_loss(x, w, b, y):\n",
    "    return tf.reduce_mean(input_tensor=tf_sqerrors(x, w, b, y))"
   ]
  },
  {
   "cell_type": "markdown",
   "metadata": {},
   "source": [
    "#### For fast execution, float32 or maybe float16. <br> Test own your own."
   ]
  },
  {
   "cell_type": "code",
   "execution_count": 16,
   "metadata": {},
   "outputs": [],
   "source": [
    "tf_X = tf.cast(X.copy(), dtype=tf.float32)\n",
    "tf_w = tf.cast(w, dtype=tf.float32)\n",
    "tf_w = tf.reshape(tf_w, [3, 1])\n",
    "tf_y = tf.cast(y, dtype=tf.float32)\n",
    "tf_y = tf.reshape(tf_y, [len(y), 1])\n",
    "tf_b = tf.Variable(tf_w[0])\n",
    "tf_w = tf.Variable(tf_w[1:])"
   ]
  },
  {
   "cell_type": "code",
   "execution_count": 17,
   "metadata": {},
   "outputs": [
    {
     "data": {
      "text/plain": [
       "<tf.Tensor: id=1, shape=(1000, 2), dtype=float32, numpy=\n",
       "array([[ 0.74053174,  2.0936456 ],\n",
       "       [ 2.1716077 ,  1.9798344 ],\n",
       "       [ 3.4997914 ,  7.2580447 ],\n",
       "       ...,\n",
       "       [ 4.267824  ,  6.470295  ],\n",
       "       [ 4.224215  ,  6.3163605 ],\n",
       "       [ 5.1287484 , 10.9713125 ]], dtype=float32)>"
      ]
     },
     "execution_count": 17,
     "metadata": {},
     "output_type": "execute_result"
    }
   ],
   "source": [
    "tf_X"
   ]
  },
  {
   "cell_type": "code",
   "execution_count": 18,
   "metadata": {},
   "outputs": [
    {
     "data": {
      "text/plain": [
       "TensorShape([1000, 1])"
      ]
     },
     "execution_count": 18,
     "metadata": {},
     "output_type": "execute_result"
    }
   ],
   "source": [
    "tf_y.shape"
   ]
  },
  {
   "cell_type": "markdown",
   "metadata": {},
   "source": [
    "<br> *Note: $W$, $B$ must be a tensorflow Variable to call GradientTape(), confirm below\n",
    "<br> &emsp;"
   ]
  },
  {
   "cell_type": "code",
   "execution_count": 19,
   "metadata": {},
   "outputs": [
    {
     "data": {
      "text/plain": [
       "<tf.Variable 'Variable:0' shape=(1,) dtype=float32, numpy=array([0.49671414], dtype=float32)>"
      ]
     },
     "execution_count": 19,
     "metadata": {},
     "output_type": "execute_result"
    }
   ],
   "source": [
    "tf_b"
   ]
  },
  {
   "cell_type": "code",
   "execution_count": 20,
   "metadata": {},
   "outputs": [
    {
     "data": {
      "text/plain": [
       "<tf.Variable 'Variable:0' shape=(2, 1) dtype=float32, numpy=\n",
       "array([[-0.1382643 ],\n",
       "       [ 0.64768857]], dtype=float32)>"
      ]
     },
     "execution_count": 20,
     "metadata": {},
     "output_type": "execute_result"
    }
   ],
   "source": [
    "tf_w"
   ]
  },
  {
   "cell_type": "markdown",
   "metadata": {},
   "source": [
    "#### Eager execution on gradients\n",
    "Automatic differentiation makes backpropagation life much easier! <b>No more complicated loops</b>"
   ]
  },
  {
   "cell_type": "code",
   "execution_count": 21,
   "metadata": {},
   "outputs": [],
   "source": [
    "def grad(X, w,b, y):\n",
    "    with tf.GradientTape() as tape:\n",
    "        tf_loss_ = tf_loss(X, w,b, y)\n",
    "    return tape.gradient(tf_loss_, [w, b])"
   ]
  },
  {
   "cell_type": "markdown",
   "metadata": {},
   "source": [
    "#### Reached the convergence limit after 3500 iterations using automatic differentiation."
   ]
  },
  {
   "cell_type": "code",
   "execution_count": 22,
   "metadata": {
    "scrolled": true
   },
   "outputs": [
    {
     "name": "stdout",
     "output_type": "stream",
     "text": [
      "Validation loss after epoch 00: 984.251\n",
      "Validation loss after epoch 100: 447.067\n",
      "Validation loss after epoch 200: 309.515\n",
      "Validation loss after epoch 300: 217.780\n",
      "Validation loss after epoch 400: 156.601\n",
      "Validation loss after epoch 500: 115.799\n",
      "Validation loss after epoch 600: 88.588\n",
      "Validation loss after epoch 700: 70.440\n",
      "Validation loss after epoch 800: 58.337\n",
      "Validation loss after epoch 900: 50.265\n",
      "Validation loss after epoch 1000: 44.882\n",
      "Validation loss after epoch 1100: 41.291\n",
      "Validation loss after epoch 1200: 38.897\n",
      "Validation loss after epoch 1300: 37.300\n",
      "Validation loss after epoch 1400: 36.235\n",
      "Validation loss after epoch 1500: 35.525\n",
      "Validation loss after epoch 1600: 35.051\n",
      "Validation loss after epoch 1700: 34.736\n",
      "Validation loss after epoch 1800: 34.525\n",
      "Validation loss after epoch 1900: 34.384\n",
      "Validation loss after epoch 2000: 34.291\n",
      "Validation loss after epoch 2100: 34.228\n",
      "Validation loss after epoch 2200: 34.187\n",
      "Validation loss after epoch 2300: 34.159\n",
      "Validation loss after epoch 2400: 34.140\n",
      "Validation loss after epoch 2500: 34.128\n",
      "Validation loss after epoch 2600: 34.120\n",
      "Validation loss after epoch 2700: 34.114\n",
      "Validation loss after epoch 2800: 34.110\n",
      "Validation loss after epoch 2900: 34.108\n",
      "Validation loss after epoch 3000: 34.106\n",
      "Validation loss after epoch 3100: 34.105\n",
      "Validation loss after epoch 3200: 34.105\n",
      "Validation loss after epoch 3300: 34.104\n",
      "Validation loss after epoch 3400: 34.104\n",
      "Validation loss after epoch 3500: 34.103\n",
      "Validation loss after epoch 3600: 34.103\n",
      "Validation loss after epoch 3700: 34.103\n",
      "Validation loss after epoch 3800: 34.103\n",
      "Validation loss after epoch 3900: 34.103\n",
      "Validation loss after epoch 4000: 34.103\n",
      "Validation loss after epoch 4100: 34.103\n",
      "Validation loss after epoch 4200: 34.103\n",
      "Validation loss after epoch 4300: 34.103\n",
      "Validation loss after epoch 4400: 34.103\n",
      "Validation loss after epoch 4500: 34.103\n",
      "Validation loss after epoch 4600: 34.103\n",
      "Validation loss after epoch 4700: 34.103\n",
      "Validation loss after epoch 4800: 34.103\n",
      "Validation loss after epoch 4900: 34.103\n",
      "Validation loss after epoch 5000: 34.103\n",
      "Validation loss after epoch 5100: 34.103\n",
      "Validation loss after epoch 5200: 34.103\n",
      "Validation loss after epoch 5300: 34.103\n",
      "Validation loss after epoch 5400: 34.103\n",
      "Validation loss after epoch 5500: 34.103\n",
      "Validation loss after epoch 5600: 34.103\n",
      "Validation loss after epoch 5700: 34.103\n",
      "Validation loss after epoch 5800: 34.103\n",
      "Validation loss after epoch 5900: 34.103\n",
      "Validation loss after epoch 6000: 34.103\n",
      "Validation loss after epoch 6100: 34.103\n",
      "Validation loss after epoch 6200: 34.103\n",
      "Validation loss after epoch 6300: 34.103\n",
      "Validation loss after epoch 6400: 34.103\n",
      "Validation loss after epoch 6500: 34.103\n",
      "Validation loss after epoch 6600: 34.103\n",
      "Validation loss after epoch 6700: 34.103\n",
      "Validation loss after epoch 6800: 34.103\n",
      "Validation loss after epoch 6900: 34.103\n",
      "Validation loss after epoch 7000: 34.103\n",
      "Validation loss after epoch 7100: 34.103\n",
      "Validation loss after epoch 7200: 34.103\n",
      "Validation loss after epoch 7300: 34.103\n",
      "Validation loss after epoch 7400: 34.103\n",
      "Validation loss after epoch 7500: 34.103\n",
      "Validation loss after epoch 7600: 34.103\n",
      "Validation loss after epoch 7700: 34.103\n",
      "Validation loss after epoch 7800: 34.103\n",
      "Validation loss after epoch 7900: 34.103\n",
      "Validation loss after epoch 8000: 34.103\n",
      "Validation loss after epoch 8100: 34.103\n",
      "Validation loss after epoch 8200: 34.103\n",
      "Validation loss after epoch 8300: 34.103\n",
      "Validation loss after epoch 8400: 34.103\n",
      "Validation loss after epoch 8500: 34.103\n",
      "Validation loss after epoch 8600: 34.103\n",
      "Validation loss after epoch 8700: 34.103\n",
      "Validation loss after epoch 8800: 34.103\n",
      "Validation loss after epoch 8900: 34.103\n",
      "Validation loss after epoch 9000: 34.103\n",
      "Validation loss after epoch 9100: 34.103\n",
      "Validation loss after epoch 9200: 34.103\n",
      "Validation loss after epoch 9300: 34.103\n",
      "Validation loss after epoch 9400: 34.103\n",
      "Validation loss after epoch 9500: 34.103\n",
      "Validation loss after epoch 9600: 34.103\n",
      "Validation loss after epoch 9700: 34.103\n",
      "Validation loss after epoch 9800: 34.103\n",
      "Validation loss after epoch 9900: 34.103\n",
      "Final Weights B: <tf.Variable 'Variable:0' shape=(1,) dtype=float32, numpy=array([79.74132], dtype=float32)>, W1: [0.2124027], W2: [0.9022701]\n"
     ]
    }
   ],
   "source": [
    "# learning_rate = 0.01\n",
    "# epochs = 10000\n",
    "# display_epoch = 100\n",
    "for e in range(epochs):\n",
    "    deltaW, deltaB = grad(tf_X,tf_w,tf_b,tf_y)\n",
    "    change_W = deltaW * learning_rate\n",
    "    change_B = deltaB * learning_rate\n",
    "    tf_w.assign_sub(change_W)\n",
    "    tf_b.assign_sub(change_B)\n",
    "    if e==0 or e % display_epoch == 0:\n",
    "        # print(deltaW.numpy(), deltaB.numpy())\n",
    "        print(\"Validation loss after epoch {:02d}: {:.3f}\".format(e, tf_loss(tf_X,tf_w,tf_b,tf_y)))\n",
    "\n",
    "print(\"Final Weights B: {}, W1: {}, W2: {}\".format(tf_b, tf_w[0], tf_w[1]))"
   ]
  },
  {
   "cell_type": "markdown",
   "metadata": {},
   "source": [
    "# Tensorflow Final Weights B: 79.741, W1: 0.212, W2: 0.902"
   ]
  },
  {
   "cell_type": "markdown",
   "metadata": {},
   "source": [
    "### Comparing the two methods, success!"
   ]
  },
  {
   "cell_type": "code",
   "execution_count": 23,
   "metadata": {},
   "outputs": [
    {
     "name": "stdout",
     "output_type": "stream",
     "text": [
      "Tensorflow Final Weights B: 79.741, W1: 0.212, W2: 0.902\n",
      "Validation loss after epoch 9999: 34.103\n"
     ]
    }
   ],
   "source": [
    "print(\"Tensorflow Final Weights B: {:.3f}, W1: {:.3f}, W2: {:.3f}\".format(tf_b.numpy()[0], tf_w[0].numpy()[0], tf_w[1].numpy()[0]))\n",
    "print(\"Validation loss after epoch {:02d}: {:.3f}\".format(e, tf_loss(tf_X,tf_w,tf_b,tf_y)))"
   ]
  },
  {
   "cell_type": "code",
   "execution_count": 24,
   "metadata": {},
   "outputs": [
    {
     "name": "stdout",
     "output_type": "stream",
     "text": [
      "Numpy Final Weights B: 79.251, W1: 0.275, W2: 0.934\n",
      "Validation loss after epoch 9999: 34.128\n"
     ]
    }
   ],
   "source": [
    "print(\"Numpy Final Weights B: {:.3f}, W1: {:.3f}, W2: {:.3f}\".format(temp_w[0], temp_w[1], temp_w[2]))\n",
    "print(\"Validation loss after epoch {:02d}: {:.3f}\".format(i,loss(X, temp_w, y) ))"
   ]
  }
 ],
 "metadata": {
  "kernelspec": {
   "display_name": "Python 3",
   "language": "python",
   "name": "python3"
  },
  "language_info": {
   "codemirror_mode": {
    "name": "ipython",
    "version": 3
   },
   "file_extension": ".py",
   "mimetype": "text/x-python",
   "name": "python",
   "nbconvert_exporter": "python",
   "pygments_lexer": "ipython3",
   "version": "3.6.5"
  }
 },
 "nbformat": 4,
 "nbformat_minor": 2
}
